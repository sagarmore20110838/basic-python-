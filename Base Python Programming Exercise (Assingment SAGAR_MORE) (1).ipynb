{
 "cells": [
  {
   "cell_type": "markdown",
   "metadata": {},
   "source": [
    "## Python Basic Programming Assingment (SAGAR MORE)"
   ]
  },
  {
   "cell_type": "markdown",
   "metadata": {},
   "source": [
    "## Q1: What is the output of following expression:\n",
    "    5 + 4 * 9 % (3 + 1) / 6 - 1"
   ]
  },
  {
   "cell_type": "code",
   "execution_count": null,
   "metadata": {},
   "outputs": [],
   "source": [
    "5 + 4 * 9 % (3 + 1) / 6 - 1             #  Left to right associative and the 1st presidence will be given to () \n",
    "\n",
    "5 + 4 * 9 % 4 / 6 - 1                  ## In ( ) the operator + will work and gives out put \n",
    "\n",
    "5 + 36 % 4 / 6 - 1                     ## As the 3rd most presidence will be given to *, / , % and its assosiatvity is from \n",
    "                                       ## left to right so * execute first\n",
    "    \n",
    "5 + 0 / 6 - 1                          ## As in the following exp. from L-R % have high presidence so 36 % 4 will excecuted \n",
    "\n",
    "\n",
    "5 + 0.0 - 1                 ## As in the following exp from L-R \"/\" have high presidence so 0/6  as it gives value in decimal \n",
    "\n",
    "5.0 - 1                                 ## as the additon will ex. from L-R \n",
    "\n",
    "4.0                                     ## only 1 opretor is remain that is \"-\"\n",
    "\n",
    "\n",
    "\n",
    "### The result is \"4.0\""
   ]
  },
  {
   "cell_type": "markdown",
   "metadata": {},
   "source": [
    "## Q2: Write a program to check if a Number is Odd or Even. Take number as a input from user at runtime."
   ]
  },
  {
   "cell_type": "code",
   "execution_count": null,
   "metadata": {},
   "outputs": [],
   "source": [
    "x = int(input(\"Pls enter an integer without decimal : \"))\n",
    "\n",
    "\n",
    "if x == 0:\n",
    "    \n",
    "    print(\"you have enter a first even number : \" , x  )\n",
    "\n",
    "    \n",
    "elif x % 2 == 0 :\n",
    "    \n",
    "    print(\" You have enter a even number :  \", x )\n",
    "\n",
    "    \n",
    "else :\n",
    "        \n",
    "    print(\"you have enter a odd number : \", x)\n",
    "\n",
    "        \n",
    "    "
   ]
  },
  {
   "cell_type": "markdown",
   "metadata": {},
   "source": [
    "## Q3: Write a program to display the multiplication table by taking a number as input. \n",
    "    [Hint : Use print statement inside of a loop]"
   ]
  },
  {
   "cell_type": "code",
   "execution_count": 2,
   "metadata": {},
   "outputs": [
    {
     "name": "stdout",
     "output_type": "stream",
     "text": [
      "pls enter an integer without decimal whoes table  you want  : 6\n",
      "pls enter an interger upto which you want x number to produce the table  ,  for \n",
      "                 ex -:    if you want upto 10 so that means  2x1 , 2x2.... 2x10 : 10\n",
      "6 X 1 = 6\n",
      "6 X 2 = 12\n",
      "6 X 3 = 18\n",
      "6 X 4 = 24\n",
      "6 X 5 = 30\n",
      "6 X 6 = 36\n",
      "6 X 7 = 42\n",
      "6 X 8 = 48\n",
      "6 X 9 = 54\n",
      "6 X 10 = 60\n"
     ]
    }
   ],
   "source": [
    "\n",
    "## This program will give you the  table of a number upto you wish  : \n",
    "\n",
    "x = int(input(\"pls enter an integer without decimal whoes table  you want  : \" ))\n",
    "\n",
    "j = int(input ('''pls enter an interger upto which you want x number to produce the table  ,  for \n",
    "                 ex -:    if you want upto 10 so that means  2x1 , 2x2.... 2x10 : '''))\n",
    "\n",
    "i= 1 \n",
    "\n",
    "while i<= j :\n",
    "        \n",
    "    z = x * i \n",
    "       \n",
    "    print ( x ,\"X\", i , \"=\", z )\n",
    "        \n",
    "    i= i+1\n",
    "\n",
    "    \n"
   ]
  },
  {
   "cell_type": "markdown",
   "metadata": {},
   "source": [
    "\n",
    "## Q4: Write a program which will find all numbers between 2000 and 3200 which are divisible by 7 \n",
    "    but are not a multiple of 5.\n",
    " \n",
    "Note: The numbers obtained should be printed in a comma-separated sequence on a single line."
   ]
  },
  {
   "cell_type": "code",
   "execution_count": 4,
   "metadata": {},
   "outputs": [
    {
     "name": "stdout",
     "output_type": "stream",
     "text": [
      "2002 , 2009 , 2016 , 2023 , 2037 , 2044 , 2051 , 2058 , 2072 , 2079 , 2086 , 2093 , 2107 , 2114 , 2121 , 2128 , 2142 , 2149 , 2156 , 2163 , 2177 , 2184 , 2191 , 2198 , 2212 , 2219 , 2226 , 2233 , 2247 , 2254 , 2261 , 2268 , 2282 , 2289 , 2296 , 2303 , 2317 , 2324 , 2331 , 2338 , 2352 , 2359 , 2366 , 2373 , 2387 , 2394 , 2401 , 2408 , 2422 , 2429 , 2436 , 2443 , 2457 , 2464 , 2471 , 2478 , 2492 , 2499 , 2506 , 2513 , 2527 , 2534 , 2541 , 2548 , 2562 , 2569 , 2576 , 2583 , 2597 , 2604 , 2611 , 2618 , 2632 , 2639 , 2646 , 2653 , 2667 , 2674 , 2681 , 2688 , 2702 , 2709 , 2716 , 2723 , 2737 , 2744 , 2751 , 2758 , 2772 , 2779 , 2786 , 2793 , 2807 , 2814 , 2821 , 2828 , 2842 , 2849 , 2856 , 2863 , 2877 , 2884 , 2891 , 2898 , 2912 , 2919 , 2926 , 2933 , 2947 , 2954 , 2961 , 2968 , 2982 , 2989 , 2996 , 3003 , 3017 , 3024 , 3031 , 3038 , 3052 , 3059 , 3066 , 3073 , 3087 , 3094 , 3101 , 3108 , 3122 , 3129 , 3136 , 3143 , 3157 , 3164 , 3171 , 3178 , 3192 , 3199 , "
     ]
    }
   ],
   "source": [
    "x = 2001 \n",
    "\n",
    "y = 3200 \n",
    "\n",
    "\n",
    "\n",
    "while x < y :\n",
    "    \n",
    "    if (x%7 == 0) & (x%5 !=0) :\n",
    "        \n",
    "        print(x, end = \" , \") \n",
    "        \n",
    "          \n",
    "    x = x+1 "
   ]
  },
  {
   "cell_type": "markdown",
   "metadata": {},
   "source": [
    "##  Q5: Count the elements of each datatype inside the list and display in output\n",
    "    [2, 3, 'Py', '10', 1, 'SQL', 5.5, True, 3, 'John', None, 7]    "
   ]
  },
  {
   "cell_type": "code",
   "execution_count": 6,
   "metadata": {},
   "outputs": [
    {
     "name": "stdout",
     "output_type": "stream",
     "text": [
      "1) The integer data type element in x : [2, 3, 1, 3, 7]  and the count of integer type element is :  5  \n",
      "\n",
      "2) The float data type element in x : [5.5]  and the count of float type element is :  1  \n",
      "\n",
      "3) The string data type element in x : ['Py', '10', 'SQL', 'John']  and the count of string type element is :  4  \n",
      "\n",
      "4) The boolen data type element in x : [True]  and the count of boolen type element is :  1\n"
     ]
    }
   ],
   "source": [
    " \n",
    "x = [2, 3, 'Py', '10', 1, 'SQL', 5.5, True, 3, 'John', None, 7] \n",
    "\n",
    "\n",
    "no_int = [i for i in x if type(i)== int]\n",
    "\n",
    "no_float = [i for i in x if type(i)== float]\n",
    "\n",
    "no_string = [i for i in x if type(i)== str]\n",
    "\n",
    "no_boolen = [i for i in x if type(i)== bool]\n",
    "\n",
    "\n",
    "print('1) The integer data type element in x :' , no_int, \" and the count of integer type element is : \", len(no_int) , \" \\n\" ) \n",
    "\n",
    "print('2) The float data type element in x :' , no_float, \" and the count of float type element is : \", len(no_float), \" \\n\") \n",
    "\n",
    "print('3) The string data type element in x :' , no_string, \" and the count of string type element is : \", len(no_string), \" \\n\") \n",
    "\n",
    "print('4) The boolen data type element in x :' , no_boolen, \" and the count of boolen type element is : \", len(no_boolen)) "
   ]
  },
  {
   "cell_type": "markdown",
   "metadata": {},
   "source": [
    "# Q6: Add all values from the list with numeric datatypes \n",
    "    [2, 3, 'Py', '10', 1, 'SQL', 5.5, True, 3, 'John', None, 7] "
   ]
  },
  {
   "cell_type": "code",
   "execution_count": 8,
   "metadata": {},
   "outputs": [
    {
     "name": "stdout",
     "output_type": "stream",
     "text": [
      " The sum of the number of the integer data type of the given list is :  16\n"
     ]
    }
   ],
   "source": [
    "x = [2, 3, 'Py', '10', 1, 'SQL', 5.5, True, 3, 'John', None, 7] \n",
    "\n",
    "i= 0 \n",
    "sum = 0\n",
    "while  i < len(x) : \n",
    "    \n",
    "    if (type (x[i])) == int : \n",
    "        \n",
    "         sum = x[i] + sum     \n",
    "    \n",
    "    i= i + 1 \n",
    "    \n",
    "print(\" The sum of the number of the integer data type of the given list is : \", sum )  \n",
    " \n"
   ]
  },
  {
   "cell_type": "markdown",
   "metadata": {},
   "source": [
    "# Q7: Concat all str datatypes with hyphen as a delimiter\n",
    "    [2, 3, 'Py', '10', 1, 'SQL', 5.5, True, 3, 'John', None, 7] "
   ]
  },
  {
   "cell_type": "code",
   "execution_count": 1,
   "metadata": {},
   "outputs": [
    {
     "name": "stdout",
     "output_type": "stream",
     "text": [
      "Py-10-SQL-John-"
     ]
    }
   ],
   "source": [
    "x = [2, 3, 'Py', '10', 1, 'SQL', 5.5, True, 3, 'John', None, 7] \n",
    "\n",
    "i= 0 \n",
    "\n",
    "while  i < len(x) : \n",
    "    \n",
    "    if (type (x[i])) == str : \n",
    "    \n",
    "       print(x[i], end = \"-\"  )  \n",
    "\n",
    "    i = i + 1 "
   ]
  },
  {
   "cell_type": "markdown",
   "metadata": {},
   "source": [
    "# Q8: Write a UDF that takes list as input and returns sum of all numbers \n",
    "    (exclude bool) and count of all str \n",
    "    [2, 3, 'Py', '10', 1, 'SQL', 5.5, True, 3, 'John', None, 7] \n",
    "    \n",
    "Hint:\n",
    "-----\n",
    "def my_func:\n",
    "    # your code\n",
    "        \n",
    "my_func(l1)\n",
    "# output --> {'Sum': xxx, 'Count_of_Strs': xxx}"
   ]
  },
  {
   "cell_type": "code",
   "execution_count": 5,
   "metadata": {},
   "outputs": [],
   "source": [
    "def cal_sumC(*x):\n",
    "    '''This function will give you the sum of integers and will also count the strings for you and give the output '''\n",
    "    \n",
    "    no_int = [i for i in x if type(i)== int]\n",
    "    no_string = [i for i in x if type(i)== str]\n",
    "\n",
    "    sum_int = 0\n",
    "\n",
    "    for i in no_int: \n",
    "        \n",
    "        sum_int = sum_int + i\n",
    "          \n",
    "    return \"Sum : \", sum_int, 'Count_of_Strs :', len(no_string)"
   ]
  },
  {
   "cell_type": "markdown",
   "metadata": {},
   "source": [
    "# Q9: Get only odd numbers from the following list and store the numbers in new list\n",
    "    li = [5, 7, 22, 97, 54, 62, 77, 23, 73, 61]\n",
    "\n",
    "    i. Use loops to get the answer\n",
    "   ii. Use list comprehensions\n",
    "  iii. Use lambda function with filter"
   ]
  },
  {
   "cell_type": "code",
   "execution_count": 80,
   "metadata": {},
   "outputs": [
    {
     "name": "stdout",
     "output_type": "stream",
     "text": [
      "[5, 7, 97, 77, 23, 73, 61]\n"
     ]
    }
   ],
   "source": [
    "li = [5, 7, 22, 97, 54, 62, 77, 23, 73, 61]\n",
    " \n",
    "odd_num = [i for i in li if i%2 != 0 ]\n",
    "\n",
    "\n",
    "print (odd_num)\n",
    "    \n",
    "    \n"
   ]
  },
  {
   "cell_type": "markdown",
   "metadata": {},
   "source": [
    "# Q10: Write a UDF to return the descriptives [sum, count, min, mean, max] for a list of n number of input \n",
    "    numbers."
   ]
  },
  {
   "cell_type": "code",
   "execution_count": 6,
   "metadata": {},
   "outputs": [],
   "source": [
    "def cal_fun(*x, y=\"sum\" ):\n",
    "    '''This function will excecutes 5 things for the user : sum- sum of all elements , count - count the no of elements ,\n",
    "    min - smallest element , max - the biggest elemet and mean - mean of all the elements '''\n",
    "    '''You need to put integers in 1st argument and in 2nd argument you need to put the operation you want to excecute. if \n",
    "    not mention the 2nd argument by defualt it will calculate the sum of integers'''\n",
    "    y = y.lower()\n",
    "    \n",
    "    no_int = [i for i in x if type(i)== int]\n",
    "\n",
    "    sum_int = 0\n",
    "    for i in no_int: \n",
    "        \n",
    "        sum_int = sum_int + i\n",
    "        \n",
    "    no_int.sort()\n",
    "    if y == \"sum\":\n",
    "         \n",
    "        return \" sum of numbers are : \" , sum_int\n",
    "    \n",
    "    elif y==\"count\":\n",
    "        \n",
    "        return \"The number of elements in list is  : \", len(x)\n",
    "    \n",
    "    \n",
    "    elif y==\"min\":\n",
    "        \n",
    "        return  \"The smallest number is : \", no_int[0]\n",
    "              \n",
    "    elif y==\"max\":\n",
    "        \n",
    "        return  \"The largest number is : \", no_int[-1]\n",
    "    \n",
    "    elif y==\"mean\":\n",
    "        \n",
    "        mean = sum_int/len(x)\n",
    "        \n",
    "        return \" The mean of the numbers are : \" , mean"
   ]
  },
  {
   "cell_type": "raw",
   "metadata": {},
   "source": [
    "Q11: Write an udf to calculate the area of different shapes\n",
    "\n",
    "Take shape and dimensions as arguments to udf as follows : \n",
    "\n",
    "1. square which has side\n",
    "2. rectangle which has length and width\n",
    "3. circle which has radius\n",
    "\n",
    "The shape should be a positional argument and it's dimensions are taken as kwargs\n",
    "\n",
    "Perform proper validation for the user inputs and then calculate area.\n",
    "\n",
    "E.g. if shape is square, ensure kwargs has \"side\" and if so, then you may return the area, else display appropriate error message like \"Please enter 'side' for a square\""
   ]
  },
  {
   "cell_type": "code",
   "execution_count": 1,
   "metadata": {},
   "outputs": [],
   "source": [
    "\n",
    "\n",
    "def cal_area(shape,**dim):\n",
    "    '''In this function you need to give atleast 1 positional argument of shape : you have 3 options square, rectangle and circle \n",
    "    and 1 kwargs argument in which you need to give dimention of the shape in integer format'''  \n",
    "    \n",
    "    '''1) For square you need to give 1 kwargs argument of side as s'''\n",
    "    '''2) For rectangle you need to give 2 kwargs argument of length as l and breadth as b'''\n",
    "    '''3) For circle you need to give 1 kwargs argument of radius as r'''\n",
    "    \n",
    "    \n",
    "    shape = shape.lower()\n",
    "\n",
    "    if shape == \"square\":\n",
    "        \n",
    "        area = dim['s']**2\n",
    "        \n",
    "        return area \n",
    "\n",
    "    elif shape == \"rectangle\":\n",
    "        area = dim[\"l\"]*dim[\"b\"]\n",
    "        \n",
    "        return area \n",
    "\n",
    "\n",
    "    elif shape == \"circle\":\n",
    "        \n",
    "        area = 3.14 *((dim[\"r\"])**2)\n",
    "        \n",
    "        return area \n",
    "\n",
    "\n"
   ]
  },
  {
   "cell_type": "markdown",
   "metadata": {},
   "source": [
    "# Q12: Write a UDF to reconcile the values within two lists.\n",
    "    l1 = ['January', 'February', 'March', 'May', 'June', 'September', 'December']\n",
    "    l2 = ['January', 'February', 'April', 'June', 'October', 'December']\n",
    "\n",
    "Hint:\n",
    "-----\n",
    "def func(l1, l2):\n",
    "    your code here...\n",
    "    \n",
    "Output:\n",
    "{'Matched': ['January', 'February', 'June', 'December'],\n",
    "    'Only in l1': ['March', 'May', 'September'],\n",
    "        'Only in l2': ['April', 'October']}"
   ]
  },
  {
   "cell_type": "code",
   "execution_count": 2,
   "metadata": {},
   "outputs": [],
   "source": [
    "def sort_list(l1,l2):\n",
    "     \n",
    "    l1 = {'January', 'February', 'March', 'May', 'June', 'September', 'December'}\n",
    "    l2 = {'January', 'February', 'April', 'June', 'October', 'December'}\n",
    "\n",
    "    \n",
    "\n",
    "    x = l1.intersection(l2)\n",
    "\n",
    "    y= l1.difference(l2)\n",
    "    \n",
    "\n",
    "    z= l2.difference(l1)\n",
    "\n",
    "    x= list(x)\n",
    "    y= list(y)\n",
    "    z= list(z)\n",
    "\n",
    "\n",
    "    return 'Matched:',x,'Only in l1:',y,  'Only in l2:', z    \n",
    "\n"
   ]
  },
  {
   "cell_type": "raw",
   "metadata": {
    "collapsed": true
   },
   "source": [
    "Q13: write a UDF to check if a number is prime or not."
   ]
  },
  {
   "cell_type": "code",
   "execution_count": 9,
   "metadata": {},
   "outputs": [],
   "source": [
    "\n",
    "def check_prime(x):\n",
    "    '''It will verify whether a number is prime or not '''\n",
    "    \n",
    "    if (x == 2) | (x ==3) | (x == 5) | (x==7) :\n",
    "\n",
    "        return \"You have entered an first four prime number :\", x\n",
    "    \n",
    "    elif x==0 :\n",
    "        \n",
    "        return \" Zero is neither prime nor composite number :\", x\n",
    "    \n",
    "    elif x==1 :\n",
    "        return \"You have entered the 1st prime number : \", x\n",
    "    \n",
    "\n",
    "    elif (x % 2!=0) & (x%3!=0) & (x%5!=0) & (x%7!=0):\n",
    "    \n",
    "        return \"The Entered number is a prime number  : \" , x\n",
    "    \n",
    "    else :       \n",
    "        return \" The Entered number is not a prime number \", x\n",
    "\n",
    "\n",
    "\n",
    "\n",
    "\n",
    "\n"
   ]
  },
  {
   "cell_type": "raw",
   "metadata": {
    "collapsed": true
   },
   "source": [
    "Q14. Write a program which can compute the factorial of a given numbers. \n",
    "#   The results should be printed in a comma-separated sequence on a single line. \n",
    "# input() function can be used for getting user(console) input\n",
    "\n",
    "\n",
    "#Suppose the input is supplied to the program:  8  \n",
    "#Then, the output should be:  40320 \n",
    "#Hints: In case of input data being supplied to the question, it should be assumed to be a console input. \n"
   ]
  },
  {
   "cell_type": "code",
   "execution_count": 52,
   "metadata": {},
   "outputs": [
    {
     "name": "stdout",
     "output_type": "stream",
     "text": [
      "Pls enter any number 5\n",
      "The factorial of the number :  5  is  120\n"
     ]
    }
   ],
   "source": [
    "x = int(input(\"Pls enter any number \"))\n",
    "\n",
    "i = 1\n",
    "\n",
    "f = 1\n",
    "\n",
    "while i<= x:\n",
    "    \n",
    "    f= f * i                             ## f= 1, i = 2 ...  f=2, i= 3...  f=6 , i=4 ... f=24 , i= 5 \n",
    "    \n",
    "    i= i + 1  \n",
    "\n",
    "print(\"The factorial of the number : \", x, \" is \" , f)\n"
   ]
  },
  {
   "cell_type": "markdown",
   "metadata": {
    "collapsed": true
   },
   "source": [
    "### Q15. With a given integral number n, write a program to generate a dictionary that contains (i, i*i) such that is an integral number between 1 and n (both included). and then the program should print the dictionary.\n",
    "\n",
    "#Suppose the following input is supplied to the program: 8\n",
    "#Then, the output should be: {1: 1, 2: 4, 3: 9, 4: 16, 5: 25, 6: 36, 7: 49, 8: 64}\n",
    "#Hints: In case of input data being supplied to the question, it should be assumed to be a console input. Consider using dict()\n",
    "\n"
   ]
  },
  {
   "cell_type": "code",
   "execution_count": 10,
   "metadata": {},
   "outputs": [
    {
     "data": {
      "text/plain": [
       "{1: 1, 2: 4, 3: 9, 4: 16, 5: 25, 6: 36, 7: 49, 8: 64}"
      ]
     },
     "execution_count": 10,
     "metadata": {},
     "output_type": "execute_result"
    }
   ],
   "source": [
    "x= {1,2,3,4,5,6,7,8}\n",
    "\n",
    "{i:i**2 for i in x} "
   ]
  },
  {
   "cell_type": "raw",
   "metadata": {
    "collapsed": true
   },
   "source": [
    "Q16. Write a program which accepts a sequence of comma-separated numbers from console and generate a list and a tuple which contains every number.\n",
    "#Suppose the following input is supplied to the program: 34,67,55,33,12,98\n",
    "    #Then, the output should be: ['34', '67', '55', '33', '12', '98'] ('34', '67', '55', '33', '12', '98')\n",
    "\n",
    "#Hints: In case of input data being supplied to the question, it should be assumed to be a console input. you may use tuple() method to convert list to tuple\n"
   ]
  },
  {
   "cell_type": "code",
   "execution_count": 11,
   "metadata": {},
   "outputs": [
    {
     "name": "stdout",
     "output_type": "stream",
     "text": [
      "Input some comma seprated numbers : 34, 67, 55, 33, 12, 98\n",
      "List :  ['34', ' 67', ' 55', ' 33', ' 12', ' 98']\n",
      "Tuple :  ('34', ' 67', ' 55', ' 33', ' 12', ' 98')\n"
     ]
    }
   ],
   "source": [
    "values = input(\"Input some comma seprated numbers : \")\n",
    "\n",
    "list = values.split(\",\")\n",
    "\n",
    "tuple = tuple(list)\n",
    "\n",
    "print('List : ',list)\n",
    "\n",
    "print('Tuple : ',tuple)"
   ]
  },
  {
   "cell_type": "raw",
   "metadata": {
    "collapsed": true
   },
   "source": [
    "Q17. Write a program that accepts a comma separated sequence of words as input and \n",
    "# prints the words in a comma-separated sequence after sorting them alphabetically.\n",
    "\n",
    "# Suppose the following input is supplied to the program: without,hello,bag,world\n",
    "# Then, the output should be: bag,hello,without,world\n",
    "\n",
    "#Hints: In case of input data being supplied to the question, it should be assumed to be a console input.\n"
   ]
  },
  {
   "cell_type": "code",
   "execution_count": 2,
   "metadata": {},
   "outputs": [
    {
     "name": "stdout",
     "output_type": "stream",
     "text": [
      "Input some comma seprated words  : sagar , more , chetan \n"
     ]
    },
    {
     "data": {
      "text/plain": [
       "[' chetan ', ' more ', 'sagar ']"
      ]
     },
     "execution_count": 2,
     "metadata": {},
     "output_type": "execute_result"
    }
   ],
   "source": [
    "values = input(\"Input some comma seprated words  : \")\n",
    "\n",
    "list = values.split(\",\")\n",
    "\n",
    "list.sort()\n",
    "\n",
    "list \n",
    "\n"
   ]
  },
  {
   "cell_type": "markdown",
   "metadata": {
    "collapsed": true
   },
   "source": [
    " ## Q18. Write a program that accepts a sequence of whitespace separated words \n",
    "# as input and prints the words after removing all duplicate words and sorting them alphanumerically.\n",
    "# Suppose the following input is supplied to the program: hello world and practice makes perfect and hello world again\n",
    "# Then, the output should be: again and hello makes perfect practice world\n",
    "\n",
    "#Hints: In case of input data being supplied to the question, it should be assumed to be a console input.\n",
    "#We use set container to remove duplicated data automatically and then use sorted() to sort the data.\n"
   ]
  },
  {
   "cell_type": "code",
   "execution_count": null,
   "metadata": {},
   "outputs": [],
   "source": [
    "x = input(\" Pls enter any string as you which : \")\n",
    "\n",
    "x = x.split()\n",
    "\n",
    "x= set(x)\n",
    "\n",
    "x\n",
    "\n",
    "\n"
   ]
  },
  {
   "cell_type": "markdown",
   "metadata": {
    "collapsed": true
   },
   "source": [
    "\n",
    "# Q19. Write a program that accepts a sentence and calculate the number of upper case \n",
    "# letters and lower case letters.\n",
    "#Suppose the following input is supplied to the program: Hello world!\n",
    "#Then, the output should be: UPPER CASE 1 LOWER CASE 9\n",
    "\n",
    "#Hints: In case of input data being supplied to the question, it should be assumed to be a console input.\n"
   ]
  },
  {
   "cell_type": "code",
   "execution_count": null,
   "metadata": {},
   "outputs": [],
   "source": [
    "x = input(\"Pls Enter the string in which you want to count the upper and lower case : \")\n",
    "count_upp = 0\n",
    "count_low = 0\n",
    "\n",
    "for i in x: \n",
    "    \n",
    "    if i.isupper() == True : \n",
    "        count_upp = count_upp+1\n",
    "        \n",
    "    elif i.islower() == True: \n",
    "        count_low = count_low+1\n",
    "\n",
    "\n",
    "print (\" UPPER CASE : \", count_upp , \"lower case : \", count_low)"
   ]
  },
  {
   "cell_type": "raw",
   "metadata": {
    "collapsed": true
   },
   "source": [
    "Q20. Write a program that takes a string and returns reversed string. i.e. if input is \"abcd123\" output should be \"321dcba\""
   ]
  },
  {
   "cell_type": "code",
   "execution_count": null,
   "metadata": {},
   "outputs": [],
   "source": [
    "values = input(\"Input some comma seprated words  : \")\n",
    "\n",
    "values [::-1]\n",
    "\n"
   ]
  },
  {
   "cell_type": "code",
   "execution_count": null,
   "metadata": {},
   "outputs": [],
   "source": []
  }
 ],
 "metadata": {
  "kernelspec": {
   "display_name": "Python 3",
   "language": "python",
   "name": "python3"
  },
  "language_info": {
   "codemirror_mode": {
    "name": "ipython",
    "version": 3
   },
   "file_extension": ".py",
   "mimetype": "text/x-python",
   "name": "python",
   "nbconvert_exporter": "python",
   "pygments_lexer": "ipython3",
   "version": "3.8.8"
  },
  "varInspector": {
   "cols": {
    "lenName": 16,
    "lenType": 16,
    "lenVar": 40
   },
   "kernels_config": {
    "python": {
     "delete_cmd_postfix": "",
     "delete_cmd_prefix": "del ",
     "library": "var_list.py",
     "varRefreshCmd": "print(var_dic_list())"
    },
    "r": {
     "delete_cmd_postfix": ") ",
     "delete_cmd_prefix": "rm(",
     "library": "var_list.r",
     "varRefreshCmd": "cat(var_dic_list()) "
    }
   },
   "types_to_exclude": [
    "module",
    "function",
    "builtin_function_or_method",
    "instance",
    "_Feature"
   ],
   "window_display": false
  }
 },
 "nbformat": 4,
 "nbformat_minor": 2
}
